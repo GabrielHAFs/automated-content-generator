{
 "cells": [
  {
   "cell_type": "code",
   "execution_count": 16,
   "metadata": {},
   "outputs": [],
   "source": [
    "from dotenv import load_dotenv\n",
    "import os \n",
    "from groq import Groq\n",
    "from openai import OpenAI\n",
    "import pandas as pd\n",
    "\n",
    "_ = load_dotenv()\n",
    "\n",
    "GROQ_API_KEY = os.getenv('GROQ_API_KEY')\n",
    "OPENAI_API_KEY = os.getenv('OPENAI_API_KEY')\n",
    "\n",
    "client_groq = Groq(\n",
    "    api_key=GROQ_API_KEY,\n",
    ")\n",
    "\n",
    "client_openai = OpenAI(\n",
    "    api_key=OPENAI_API_KEY,\n",
    ")"
   ]
  },
  {
   "cell_type": "code",
   "execution_count": 25,
   "metadata": {},
   "outputs": [],
   "source": [
    "def chat_completion(client, content, model: str = \"llama3-70b-8192\"):\n",
    "    response = client.chat.completions.create(\n",
    "        model=model,\n",
    "        messages=[\n",
    "            {\"role\": \"system\", \"content\": \"You are a knowledgeable assistant. Generate an article based on the user's request.\"},\n",
    "            {\"role\": \"user\", \"content\": content}\n",
    "        ],\n",
    "        response_format={\n",
    "            \"type\": \"json_schema\",\n",
    "            \"json_schema\": {\n",
    "                \"name\": \"article_response\",\n",
    "                \"schema\": {\n",
    "                    \"type\": \"object\",\n",
    "                    \"properties\": {\n",
    "                        \"article_title\": {\"type\": \"string\"},\n",
    "                        \"sections\": {\n",
    "                            \"type\": \"array\",\n",
    "                            \"items\": {\n",
    "                                \"type\": \"object\",\n",
    "                                \"properties\": {\n",
    "                                    \"headline\": {\"type\": \"string\"},\n",
    "                                    \"body\": {\"type\": \"string\"}\n",
    "                                },\n",
    "                                \"required\": [\"headline\", \"body\"],\n",
    "                                \"additionalProperties\": False\n",
    "                            }\n",
    "                        }\n",
    "                    },\n",
    "                    \"required\": [\"article_title\", \"sections\"],\n",
    "                    \"additionalProperties\": False\n",
    "                },\n",
    "                \"strict\": True\n",
    "            }\n",
    "        }\n",
    "    )\n",
    "\n",
    "    return response.choices[0].message.content"
   ]
  },
  {
   "cell_type": "code",
   "execution_count": 9,
   "metadata": {},
   "outputs": [
    {
     "data": {
      "text/html": [
       "<div>\n",
       "<style scoped>\n",
       "    .dataframe tbody tr th:only-of-type {\n",
       "        vertical-align: middle;\n",
       "    }\n",
       "\n",
       "    .dataframe tbody tr th {\n",
       "        vertical-align: top;\n",
       "    }\n",
       "\n",
       "    .dataframe thead th {\n",
       "        text-align: right;\n",
       "    }\n",
       "</style>\n",
       "<table border=\"1\" class=\"dataframe\">\n",
       "  <thead>\n",
       "    <tr style=\"text-align: right;\">\n",
       "      <th></th>\n",
       "      <th>Main Keyword</th>\n",
       "      <th>Secondary Keywords</th>\n",
       "    </tr>\n",
       "  </thead>\n",
       "  <tbody>\n",
       "    <tr>\n",
       "      <th>0</th>\n",
       "      <td>Learning Embedded Systems</td>\n",
       "      <td>Arduino programming, microcontroller basics, r...</td>\n",
       "    </tr>\n",
       "    <tr>\n",
       "      <th>1</th>\n",
       "      <td>Arduino Projects</td>\n",
       "      <td>Arduino beginner projects, LED blink project, ...</td>\n",
       "    </tr>\n",
       "    <tr>\n",
       "      <th>2</th>\n",
       "      <td>Arduino for Beginners</td>\n",
       "      <td>Getting started with Arduino, Arduino starter ...</td>\n",
       "    </tr>\n",
       "  </tbody>\n",
       "</table>\n",
       "</div>"
      ],
      "text/plain": [
       "                Main Keyword  \\\n",
       "0  Learning Embedded Systems   \n",
       "1           Arduino Projects   \n",
       "2      Arduino for Beginners   \n",
       "\n",
       "                                  Secondary Keywords  \n",
       "0  Arduino programming, microcontroller basics, r...  \n",
       "1  Arduino beginner projects, LED blink project, ...  \n",
       "2  Getting started with Arduino, Arduino starter ...  "
      ]
     },
     "execution_count": 9,
     "metadata": {},
     "output_type": "execute_result"
    }
   ],
   "source": [
    "df = pd.read_csv('../src/dataset/arduino_seo_keywords.csv')\n",
    "\n",
    "df.head()"
   ]
  },
  {
   "cell_type": "code",
   "execution_count": null,
   "metadata": {},
   "outputs": [],
   "source": [
    "content = \"Generate a 200 words article about Learning Embedded Systems with Arduino.\" \n",
    "\n",
    "article = chat_completion(client_openai, content, model=\"gpt-4o\")"
   ]
  },
  {
   "cell_type": "code",
   "execution_count": 22,
   "metadata": {},
   "outputs": [
    {
     "name": "stdout",
     "output_type": "stream",
     "text": [
      "{\"article_title\":\"Exploring Embedded Systems Through Arduino\",\"sections\":[{\"headline\":\"Introduction to Embedded Systems and Arduino\",\"body\":\"Embedded systems are specialized computing systems that serve dedicated functions within larger mechanical or electronic systems. They are pivotal in modern technologies, being integral components in devices ranging from smart toasters to complex automotive controls. Learning about embedded systems opens a myriad of possibilities for innovation and problem-solving, and using Arduino is one of the most accessible ways to start exploring this field.\"},{\"headline\":\"Why Arduino?\",\"body\":\"Arduino is a versatile microcontroller platform that is widely used for both learning and prototyping embedded systems. It excels in its simplicity and user-friendliness, thanks to a straightforward hardware interface and intuitive Integrated Development Environment (IDE). Moreover, Arduino's active online community provides a plethora of resources and support for beginners.\"},{\"headline\":\"Getting Started with Arduino\",\"body\":\"To begin, one can acquire an Arduino starter kit, which typically includes an Arduino board, sensors, LEDs, and basic electronic components. With these tools, learners can work on projects such as automating lights, creating simple robots, or monitoring environmental conditions. The real-time feedback and tinkering foster a practical understanding of how embedded systems operate.\"},{\"headline\":\"Conclusion\",\"body\":\"Arduino simplifies the learning curve for embedded systems, making advanced technological concepts accessible to enthusiasts and students alike. It not only demystifies hardware-software integration but also ignites creativity and innovation in budding engineers. Whether you're a hobbyist or a prospective engineer, delving into embedded systems with Arduino can be both educational and immensely rewarding.\"}]}\n"
     ]
    }
   ],
   "source": [
    "print(article)"
   ]
  },
  {
   "cell_type": "code",
   "execution_count": null,
   "metadata": {},
   "outputs": [],
   "source": []
  }
 ],
 "metadata": {
  "kernelspec": {
   "display_name": "llama-index-qyzmIiD4-py3.10",
   "language": "python",
   "name": "python3"
  },
  "language_info": {
   "codemirror_mode": {
    "name": "ipython",
    "version": 3
   },
   "file_extension": ".py",
   "mimetype": "text/x-python",
   "name": "python",
   "nbconvert_exporter": "python",
   "pygments_lexer": "ipython3",
   "version": "3.11.0rc1"
  }
 },
 "nbformat": 4,
 "nbformat_minor": 2
}
