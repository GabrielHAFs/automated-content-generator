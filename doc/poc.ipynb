{
 "cells": [
  {
   "cell_type": "markdown",
   "metadata": {},
   "source": [
    "# Automated Content Generation Tool - PoC"
   ]
  },
  {
   "cell_type": "markdown",
   "metadata": {},
   "source": [
    "## Importing libraries and instanciating the clients"
   ]
  },
  {
   "cell_type": "code",
   "execution_count": 1,
   "metadata": {},
   "outputs": [],
   "source": [
    "from dotenv import load_dotenv\n",
    "import os \n",
    "from groq import Groq\n",
    "from openai import OpenAI\n",
    "import pandas as pd\n",
    "import json\n",
    "\n",
    "_ = load_dotenv()\n",
    "\n",
    "GROQ_API_KEY = os.getenv('GROQ_API_KEY')\n",
    "OPENAI_API_KEY = os.getenv('OPENAI_API_KEY')\n",
    "\n",
    "client_groq = Groq(\n",
    "    api_key=GROQ_API_KEY,\n",
    ")\n",
    "\n",
    "client_openai = OpenAI(\n",
    "    api_key=OPENAI_API_KEY,\n",
    ")"
   ]
  },
  {
   "cell_type": "markdown",
   "metadata": {},
   "source": [
    "## Prompts and chat completions"
   ]
  },
  {
   "cell_type": "markdown",
   "metadata": {},
   "source": [
    "First, let's define a helper function for output the formated article. The article_generation() function takes 4 arguments and output an article in a JSON format as specified:\n",
    "\n",
    "```json\n",
    "{“article_title”: “...”,\n",
    "“sections”:\n",
    "    [\n",
    "        {“headline”: “headline of the section”,\n",
    "        “body”: “The text body of the section”}\n",
    "        , # Add other sections\n",
    "    ]\n",
    "}\n",
    "```"
   ]
  },
  {
   "cell_type": "code",
   "execution_count": 8,
   "metadata": {},
   "outputs": [],
   "source": [
    "def article_generation(\n",
    "        client, \n",
    "        system_prompt: str, \n",
    "        user_prompt: str, \n",
    "        model: str = \"gpt-4o\"):\n",
    "    \"\"\"\n",
    "    Generates an article using a language model with a structured JSON schema output.\n",
    "\n",
    "    Args:\n",
    "        client: The OpenAI API client instance.\n",
    "        system_prompt (str): The initial prompt given to the system to set the tone or context.\n",
    "        user_prompt (str): The content or prompt provided by the user, typically a string generated from a DataFrame or similar source.\n",
    "        model (str): The model to use for generating the completion. Default is 'llama3-70b-8192'.\n",
    "\n",
    "    Returns:\n",
    "        str: The structured JSON content of the generated article.\n",
    "    \"\"\"\n",
    "    try:\n",
    "        response = client.chat.completions.create(\n",
    "            model=model,\n",
    "            messages=[\n",
    "                {\"role\": \"system\", \"content\": system_prompt},\n",
    "                {\"role\": \"user\", \"content\": user_prompt}\n",
    "            ],\n",
    "            response_format={\n",
    "                \"type\": \"json_schema\",\n",
    "                \"json_schema\": {\n",
    "                    \"name\": \"article_response\",\n",
    "                    \"schema\": {\n",
    "                        \"type\": \"object\",\n",
    "                        \"properties\": {\n",
    "                            \"article_title\": {\"type\": \"string\"},\n",
    "                            \"sections\": {\n",
    "                                \"type\": \"array\",\n",
    "                                \"items\": {\n",
    "                                    \"type\": \"object\",\n",
    "                                    \"properties\": {\n",
    "                                        \"headline\": {\"type\": \"string\"},\n",
    "                                        \"body\": {\"type\": \"string\"}\n",
    "                                    },\n",
    "                                    \"required\": [\"headline\", \"body\"],\n",
    "                                    \"additionalProperties\": False\n",
    "                                }\n",
    "                            }\n",
    "                        },\n",
    "                        \"required\": [\"article_title\", \"sections\"],\n",
    "                        \"additionalProperties\": False\n",
    "                    },\n",
    "                    \"strict\": True\n",
    "                }\n",
    "            }\n",
    "        )\n",
    "    except Exception as e:\n",
    "        print(f\"An error occurred: {e}\")\n",
    "        return None\n",
    "\n",
    "    return json.loads(response.choices[0].message.content)"
   ]
  },
  {
   "cell_type": "markdown",
   "metadata": {},
   "source": [
    "The article_generation() function takes two prompts as arguments:\n",
    "\n",
    "1. System prompt: defining the general goal/objective of the model. Here we define our prompt technique, which in our case, it's evaluated Few Shot and Chain of Thought (CoT) \n",
    "\n",
    "2. User prompt: defining the user input to the model. We will receive a pandas dataframe csv structure with two colums: Main Keyword, Secondary Keywords\n",
    "\n",
    "References:\n",
    "\n",
    "- [Chain-of-Thought Prompting Elicits Reasoning in Large Language Models](https://arxiv.org/abs/2201.11903)\n",
    "- [Language Models are Few-Shot Learners](https://arxiv.org/abs/2005.14165)\n",
    "- [ReAct: Synergizing Reasoning and Acting in Language Models](https://arxiv.org/abs/2210.03629) and [https://react-lm.github.io](https://react-lm.github.io)"
   ]
  },
  {
   "cell_type": "code",
   "execution_count": 13,
   "metadata": {},
   "outputs": [],
   "source": [
    "FS_PROMPT = \"\"\"\n",
    "You are an advanced AI language model designed to generate high-quality, SEO-friendly articles. The target audience for these articles includes high school students and university new joiners. Your writing should be objective, clear, and use a friendly tone that is easy for beginners to understand.\n",
    "\n",
    "Below are examples of how you should structure the output when given a set of main and secondary keywords.\n",
    "\n",
    "Example 1:\n",
    "Main Keyword: Learning Python\n",
    "Secondary Keywords: Python basics, programming tutorials, beginner Python projects, Python syntax, coding exercises, Python for data science\n",
    "\n",
    "Article Title: Mastering Python: A Beginner's Guide\n",
    "Sections:\n",
    "1. Headline: Introduction to Python\n",
    "   Body: Python is a versatile and powerful programming language that is easy to learn for beginners. This section introduces Python's key features and why it is a popular choice for new programmers.\n",
    "2. Headline: Getting Started with Python Syntax\n",
    "   Body: Understanding Python syntax is the first step in learning to code. This section covers the basics of Python syntax, explained in a clear and approachable manner for beginners.\n",
    "3. Headline: Hands-on Python Projects for Beginners\n",
    "   Body: One of the best ways to learn Python is by working on simple projects. This section provides ideas for beginner projects that help reinforce your understanding of Python.\n",
    "\n",
    "Example 2:\n",
    "Main Keyword: Learning English\n",
    "Secondary Keywords: English grammar, vocabulary building, English speaking practice, English writing tips, language learning strategies, English listening exercises\n",
    "\n",
    "Article Title: Effective Strategies for Learning English\n",
    "Sections:\n",
    "1. Headline: Introduction to Learning English\n",
    "   Body: English is a global language that opens doors to numerous opportunities. This section discusses the importance of learning English and how to get started, especially for high school students and university new joiners.\n",
    "2. Headline: Building a Strong Vocabulary\n",
    "   Body: A strong vocabulary is essential for mastering English. This section provides strategies for expanding your vocabulary, including tips on using flashcards and reading regularly.\n",
    "3. Headline: Practicing English Speaking Skills\n",
    "   Body: Speaking is one of the most challenging aspects of learning English. This section offers practical advice on how to improve your English speaking skills through regular practice and interaction with native speakers.\n",
    "\n",
    "When provided with new keywords, generate a structured, SEO-friendly article following the same format as the examples above. The output should include an article title and sections with headlines and body text, all presented in a clear, objective, and friendly tone suitable for high school students and university new joiners.\n",
    "\n",
    "The output should follow the JSON response format.\n",
    "\"\"\"\n",
    "\n",
    "COT_PROMPT = \"\"\"\n",
    "You are an advanced AI language model designed to generate high-quality, SEO-friendly articles. The target audience for these articles includes high school students and university new joiners. Your writing should be objective, clear, and use a friendly tone that is easy for beginners to understand.\n",
    "\n",
    "Let's think step-by-step. Here’s how you should approach the task:\n",
    "\n",
    "1. **Understand the Keywords**: First, identify the main keyword and the secondary keywords. These will be used to determine the central theme and subtopics of the article. The primary objective is to generate an SEO-friendly article on the given topic defined by the {keywords}.\n",
    "\n",
    "2. **Determine the Article Title**: Based on the main keyword and the secondary keywords, generate a concise and descriptive article title that captures the essence of the content. The title should be clear and engaging, tailored to high school students and new university joiners.\n",
    "\n",
    "3. **Outline the Article Sections**: Break down the article into sections. Each section should correspond to one or more of the secondary keywords. For each section:\n",
    "   - Generate a clear and informative headline.\n",
    "   - Write a detailed body text that explains or elaborates on the topic introduced in the headline. Ensure that the explanation is objective, clear, and uses a friendly tone that is easy to understand.\n",
    "\n",
    "4. **Generate the Article**: Compile the sections into a structured article. Ensure that the article flows logically from one section to the next, providing valuable information related to the keywords. The tone should remain friendly and approachable throughout, keeping in mind the target audience.\n",
    "\n",
    "Example:\n",
    "\n",
    "Main Keyword: Learning Python\n",
    "Secondary Keywords: Python basics, programming tutorials, beginner Python projects, Python syntax, coding exercises, Python for data science\n",
    "\n",
    "Step 1: Keywords Analysis\n",
    "- Main Keyword: Learning Python\n",
    "- Secondary Keywords: Python basics, programming tutorials, beginner Python projects, Python syntax, coding exercises, Python for data science\n",
    "\n",
    "Step 2: Title Generation\n",
    "- Title: Mastering Python: A Beginner's Guide\n",
    "\n",
    "Step 3: Section Outlines\n",
    "- Section 1: Headline: Introduction to Python\n",
    "   Body: Python is a versatile and powerful programming language that is easy to learn for beginners. This section introduces Python's key features and why it is a popular choice for new programmers.\n",
    "- Section 2: Headline: Getting Started with Python Syntax\n",
    "   Body: Understanding Python syntax is the first step in learning to code. This section covers the basics of Python syntax, explained in a clear and approachable manner for beginners.\n",
    "- Section 3: Headline: Hands-on Python Projects for Beginners\n",
    "   Body: One of the best ways to learn Python is by working on simple projects. This section provides ideas for beginner projects that help reinforce your understanding of Python.\n",
    "\n",
    "Example:\n",
    "\n",
    "Main Keyword: Learning English\n",
    "Secondary Keywords: English grammar, vocabulary building, English speaking practice, English writing tips, language learning strategies, English listening exercises\n",
    "\n",
    "Step 1: Keywords Analysis\n",
    "- Main Keyword: Learning English\n",
    "- Secondary Keywords: English grammar, vocabulary building, English speaking practice, English writing tips, language learning strategies, English listening exercises\n",
    "\n",
    "Step 2: Title Generation\n",
    "- Title: Effective Strategies for Learning English\n",
    "\n",
    "Step 3: Section Outlines\n",
    "- Section 1: Headline: Introduction to Learning English\n",
    "   Body: English is a global language that opens doors to numerous opportunities. This section discusses the importance of learning English and how to get started, especially for high school students and university new joiners.\n",
    "- Section 2: Headline: Building a Strong Vocabulary\n",
    "   Body: A strong vocabulary is essential for mastering English. This section provides strategies for expanding your vocabulary, including tips on using flashcards and reading regularly.\n",
    "- Section 3: Headline: Practicing English Speaking Skills\n",
    "   Body: Speaking is one of the most challenging aspects of learning English. This section offers practical advice on how to improve your English speaking skills through regular practice and interaction with native speakers.\n",
    "\n",
    "Step 4: Compile and Present\n",
    "- Compile the title and sections into a well-structured article that is SEO-friendly and suitable for high school students and university new joiners.\n",
    "\n",
    "Use this approach to generate the article step by step, ensuring clarity, objectivity, and a friendly tone throughout the process.\n",
    "\n",
    "The output should follow the JSON response format.\n",
    "\"\"\""
   ]
  },
  {
   "cell_type": "markdown",
   "metadata": {},
   "source": [
    "## Testing the system"
   ]
  },
  {
   "cell_type": "markdown",
   "metadata": {},
   "source": [
    "First we need to load our CSV. I used pandas for that. \n",
    "\n",
    "For our examples, we have keywords related to learning Arduino."
   ]
  },
  {
   "cell_type": "code",
   "execution_count": 21,
   "metadata": {},
   "outputs": [],
   "source": [
    "# Load the CSV file\n",
    "df = pd.read_csv('../src/dataset/arduino_seo_keywords.csv')\n",
    "df.head()\n",
    "\n",
    "# Getting the desired keywords\n",
    "main_keyword = df['Main Keyword'][1]\n",
    "sec_keywords = df['Secondary Keywords'][1]"
   ]
  },
  {
   "cell_type": "code",
   "execution_count": 15,
   "metadata": {},
   "outputs": [],
   "source": [
    "user_prompt = f\"\"\"Generate a 200 words SEO-friendly article about the theme in the keywords:\n",
    "Main keyword = {str(main_keyword)}\n",
    "Secondary Keywords = {str(sec_keywords)}\n",
    "\"\"\""
   ]
  },
  {
   "cell_type": "markdown",
   "metadata": {},
   "source": [
    "So let's generate and article with using the previously defined Few-shot prompt"
   ]
  },
  {
   "cell_type": "code",
   "execution_count": 17,
   "metadata": {},
   "outputs": [],
   "source": [
    "article_fs = article_generation(\n",
    "        client_openai, \n",
    "        system_prompt = FS_PROMPT, \n",
    "        user_prompt   = user_prompt, \n",
    "        model         = \"gpt-4o-2024-08-06\")\n",
    "\n",
    "with open('article_fs_output.json', 'w') as file:\n",
    "    json.dump(article_fs, file, indent=2)"
   ]
  },
  {
   "cell_type": "markdown",
   "metadata": {},
   "source": [
    "Then let's use the Chain-of-Thought one"
   ]
  },
  {
   "cell_type": "code",
   "execution_count": 18,
   "metadata": {},
   "outputs": [],
   "source": [
    "article_cot = article_generation(\n",
    "        client_openai, \n",
    "        system_prompt = COT_PROMPT, \n",
    "        user_prompt   = user_prompt, \n",
    "        model         = \"gpt-4o-2024-08-06\")\n",
    "\n",
    "with open('article_cot_output.json', 'w') as file:\n",
    "    json.dump(article_cot, file, indent=2)"
   ]
  }
 ],
 "metadata": {
  "kernelspec": {
   "display_name": "llama-index-qyzmIiD4-py3.10",
   "language": "python",
   "name": "python3"
  },
  "language_info": {
   "codemirror_mode": {
    "name": "ipython",
    "version": 3
   },
   "file_extension": ".py",
   "mimetype": "text/x-python",
   "name": "python",
   "nbconvert_exporter": "python",
   "pygments_lexer": "ipython3",
   "version": "3.11.0rc1"
  }
 },
 "nbformat": 4,
 "nbformat_minor": 2
}
